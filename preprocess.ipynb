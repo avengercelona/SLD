{
 "cells": [
  {
   "cell_type": "code",
   "execution_count": null,
   "metadata": {},
   "outputs": [],
   "source": [
    "import os\n",
    "from extract import extrLandmarks\n",
    "import tensorflow as tf\n",
    "import numpy as np"
   ]
  },
  {
   "cell_type": "code",
   "execution_count": null,
   "metadata": {},
   "outputs": [],
   "source": [
    "\n",
    "keymap={'0':0,'1':1,'2':2,'3':3,'4':4,'5':5,'6':6,'7':7,'8':8,'9':9,\n",
    "        'A':10,'B':11,'C':12,'D':13,'E':14,'F':15,'G':16,'H':17,'I':18,\n",
    "        'J':19,'K':20,'L':21,'M':22,'N':23,'O':24,'P':25,'Q':26,'R':27,\n",
    "        'S':28,'T':29,'U':30,'V':31,'W':32,'X':33,'Y':34,'Z':35}\n",
    "input_dir='data'\n",
    "output_dir='processed'"
   ]
  },
  {
   "cell_type": "code",
   "execution_count": null,
   "metadata": {},
   "outputs": [],
   "source": [
    "\n",
    "def process_and_save_images(input_dir, output_dir):\n",
    "    if not os.path.exists(output_dir):\n",
    "        os.makedirs(output_dir)\n",
    "\n",
    "    for subdir in os.listdir(input_dir):\n",
    "        subdir_path = os.path.join(input_dir, subdir)\n",
    "        if os.path.isdir(subdir_path):\n",
    "            output_subdir_path = os.path.join(output_dir, subdir)\n",
    "            if not os.path.exists(output_subdir_path):\n",
    "                os.makedirs(output_subdir_path)\n",
    "\n",
    "            for image_name in os.listdir(subdir_path):\n",
    "                image_path = os.path.join(subdir_path, image_name)\n",
    "                if os.path.isfile(image_path):\n",
    "                    # Convert image to numpy array\n",
    "                    img_array = extrLandmarks(image_path) #numpy arr of landmarks\n",
    "                    \n",
    "                                        # Convert numpy array to tensor\n",
    "                    #tensor = tf.convert_to_tensor(img_array, dtype=tf.float32)\n",
    "\n",
    "                    # Save tensor as a .npy file\n",
    "                    output_tensor_path = os.path.join(output_subdir_path, image_name.split('.')[0] + '.npy')\n",
    "                    #np.save(output_tensor_path, tensor.numpy())\n",
    "                    # Save numpy array\n",
    "                    np.save(output_tensor_path, img_array)\n",
    "                    #tf.io.write_file(output_tensor_path, tf.io.serialize_tensor(tensor))\n",
    "                    print(f'Saved {output_tensor_path}')\n"
   ]
  },
  {
   "cell_type": "code",
   "execution_count": null,
   "metadata": {},
   "outputs": [],
   "source": [
    "\n",
    "process_and_save_images(input_dir, output_dir)"
   ]
  }
 ],
 "metadata": {
  "kernelspec": {
   "display_name": "sldenv",
   "language": "python",
   "name": "python3"
  },
  "language_info": {
   "codemirror_mode": {
    "name": "ipython",
    "version": 3
   },
   "file_extension": ".py",
   "mimetype": "text/x-python",
   "name": "python",
   "nbconvert_exporter": "python",
   "pygments_lexer": "ipython3",
   "version": "3.10.4"
  }
 },
 "nbformat": 4,
 "nbformat_minor": 2
}
