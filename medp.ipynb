{
 "cells": [
  {
   "cell_type": "code",
   "execution_count": 1,
   "metadata": {},
   "outputs": [],
   "source": [
    "import mediapipe as mp"
   ]
  },
  {
   "cell_type": "code",
   "execution_count": 2,
   "metadata": {},
   "outputs": [],
   "source": [
    "hands = mp.solutions.hands\n",
    "hands_mesh = hands.Hands(static_image_mode=True, min_detection_confidence=0.7) #hands = mp_hands.Hands(static_image_mode=True, max_num_hands=2)\n",
    "draw = mp.solutions.drawing_utils\n",
    "mp_drawing = mp.solutions.drawing_utils # Drawing utilities"
   ]
  },
  {
   "cell_type": "code",
   "execution_count": 5,
   "metadata": {},
   "outputs": [],
   "source": [
    "import os\n",
    "import cv2\n",
    "image_path = 'data/B/12.jpg'\n",
    "image = cv2.imread(image_path)"
   ]
  },
  {
   "cell_type": "code",
   "execution_count": 6,
   "metadata": {},
   "outputs": [],
   "source": [
    "# Process the image\n",
    "image_rgb = cv2.cvtColor(image, cv2.COLOR_BGR2RGB)\n",
    "results = hands_mesh.process(image_rgb)\n",
    "\n",
    "# Draw Hand Landmarks\n",
    "if results.multi_hand_landmarks:\n",
    "    for hand_landmarks in results.multi_hand_landmarks:\n",
    "        mp_drawing.draw_landmarks(image, hand_landmarks, hands.HAND_CONNECTIONS)\n",
    "\n",
    "# Display or Save the Output\n",
    "cv2.imshow('MediaPipe Hands', image)\n",
    "cv2.waitKey(0)\n",
    "cv2.destroyAllWindows()\n"
   ]
  },
  {
   "cell_type": "code",
   "execution_count": 24,
   "metadata": {},
   "outputs": [],
   "source": [
    "import numpy as np"
   ]
  },
  {
   "cell_type": "code",
   "execution_count": 34,
   "metadata": {},
   "outputs": [
    {
     "name": "stdout",
     "output_type": "stream",
     "text": [
      "63\n"
     ]
    },
    {
     "data": {
      "text/plain": [
       "(126,)"
      ]
     },
     "execution_count": 34,
     "metadata": {},
     "output_type": "execute_result"
    }
   ],
   "source": [
    "#lh = np.array([[res.x, res.y, res.z] for res in  results.multi_hand_landmarks]).flatten()\n",
    "lm=[]\n",
    "for res in results.multi_hand_landmarks:\n",
    "    for data_point in res.landmark:\n",
    "        lm.extend([data_point.x, data_point.y, data_point.z])\n",
    "print(len(lm))\n",
    "if len(lm) == 63:\n",
    "    lm.extend([0]*63)\n",
    "lm=np.array(lm)\n",
    "lm.shape"
   ]
  }
 ],
 "metadata": {
  "kernelspec": {
   "display_name": "sldenv",
   "language": "python",
   "name": "python3"
  },
  "language_info": {
   "codemirror_mode": {
    "name": "ipython",
    "version": 3
   },
   "file_extension": ".py",
   "mimetype": "text/x-python",
   "name": "python",
   "nbconvert_exporter": "python",
   "pygments_lexer": "ipython3",
   "version": "3.10.4"
  }
 },
 "nbformat": 4,
 "nbformat_minor": 2
}
